{
 "cells": [
  {
   "cell_type": "code",
   "execution_count": 25,
   "metadata": {},
   "outputs": [
    {
     "name": "stdout",
     "output_type": "stream",
     "text": [
      "1 Infinite Loop, Cupertino, CA 95014\n",
      "\n",
      "Is Meta in the dictionary?\n",
      "The element is present in the dictionary\n",
      "\n",
      "Is Amazon in the dictionary?\n",
      "No luck\n"
     ]
    }
   ],
   "source": [
    "# The following attemps to demonstrate how dictionaries work in Python 3\n",
    "# dictionaries are stored as key:value pairs\n",
    "# dictionaries are mutable and duplicates are not allowed (i.e. not two items can have same key)\n",
    "\n",
    "big_tech_addresses = {\n",
    "    \"Meta\": \"1 Hacker Way, Menlo Park, CA 94025\",  # two strings are acceptable as type\n",
    "    \"Google\": \"1600 Ampitheater Parkway, Mountain View, CA, 94043\",\n",
    "    \"Apple\": \"1 Infinite Loop, Cupertino, CA 95014\"\n",
    "}  # the values can be of any data type (int, String, boolean, list)\n",
    "print(big_tech_addresses[\"Apple\"])\n",
    "\n",
    "# how to check if key exists in dictionary with \"in\"\n",
    "print()\n",
    "print(\"Is Meta in the dictionary?\")\n",
    "if \"Meta\" in big_tech_addresses:\n",
    "    print(\"The element is present in the dictionary\")\n",
    "else:\n",
    "    print(\"No luck\")\n",
    "\n",
    "print()\n",
    "print(\"Is Amazon in the dictionary?\")\n",
    "if \"Amazon\" in big_tech_addresses:\n",
    "    print(\"The element is present in the dictionary\")\n",
    "else:\n",
    "    print(\"No luck\")"
   ]
  },
  {
   "cell_type": "code",
   "execution_count": 26,
   "metadata": {},
   "outputs": [
    {
     "name": "stdout",
     "output_type": "stream",
     "text": [
      "1 Hacker Way, Menlo Park, CA 94025\n"
     ]
    },
    {
     "ename": "KeyError",
     "evalue": "'Amazon'",
     "output_type": "error",
     "traceback": [
      "\u001b[0;31m---------------------------------------------------------------------------\u001b[0m",
      "\u001b[0;31mKeyError\u001b[0m                                  Traceback (most recent call last)",
      "Cell \u001b[0;32mIn [26], line 7\u001b[0m\n\u001b[1;32m      3\u001b[0m \u001b[39mprint\u001b[39m(big_tech_addresses[\u001b[39m\"\u001b[39m\u001b[39mMeta\u001b[39m\u001b[39m\"\u001b[39m])\n\u001b[1;32m      5\u001b[0m \u001b[39m# But what if the key does not exist in the dictionary?\u001b[39;00m\n\u001b[1;32m      6\u001b[0m \u001b[39m# if the key is not present, an exception will be thrown\u001b[39;00m\n\u001b[0;32m----> 7\u001b[0m \u001b[39mprint\u001b[39m(big_tech_addresses[\u001b[39m\"\u001b[39;49m\u001b[39mAmazon\u001b[39;49m\u001b[39m\"\u001b[39;49m])\n",
      "\u001b[0;31mKeyError\u001b[0m: 'Amazon'"
     ]
    }
   ],
   "source": [
    "# Illustrating potential indexing problems with dictionaries\n",
    "# Let us check if a key exists in a dictionary, and if so, the value of its pair will print\n",
    "print(big_tech_addresses[\"Meta\"])\n",
    "\n",
    "# But what if the key does not exist in the dictionary?\n",
    "# if the key is not present, an exception will be thrown\n",
    "print(big_tech_addresses[\"Amazon\"])\n"
   ]
  },
  {
   "cell_type": "code",
   "execution_count": null,
   "metadata": {},
   "outputs": [
    {
     "name": "stdout",
     "output_type": "stream",
     "text": [
      "dict_keys(['Meta', 'Google', 'Apple'])\n",
      "\n",
      "1 Infinite Loop, Cupertino, CA 95014\n"
     ]
    }
   ],
   "source": [
    "# The above KeyError can be fixed by first checking the keys in the dictionary\n",
    "# and then accessing them\n",
    "print(big_tech_addresses.keys())\n",
    "print()\n",
    "print(big_tech_addresses[\"Apple\"])"
   ]
  },
  {
   "cell_type": "code",
   "execution_count": null,
   "metadata": {},
   "outputs": [
    {
     "name": "stdout",
     "output_type": "stream",
     "text": [
      "The address of Apple is: 1 Infinite Loop, Cupertino, CA 95014\n"
     ]
    }
   ],
   "source": [
    "# The following demonstrates the workings of lists in Python 3\n",
    "# lists are another way of storing data\n",
    "# lists are mutable, ordered, dynamic, and elements can be accessed by index number\n",
    "# without dictionaries, two lists could be created and then accessed\n",
    "# as evidenced, this is less efficient than a dictionary\n",
    "names_list = (\"Meta\", \"Google\", \"Apple\")\n",
    "address_list = (\"1 Hacker Way, Menlo Park, CA 94025\",\n",
    "\"1600 Ampitheater Parkway, Mountain View, CA, 94043\",\n",
    "\"1 Infinite Loop, Cupertino, CA 95014\")\n",
    "print(\"The address of \" + names_list[2] + \" is: \" + address_list[2])"
   ]
  },
  {
   "cell_type": "code",
   "execution_count": 28,
   "metadata": {},
   "outputs": [
    {
     "name": "stdout",
     "output_type": "stream",
     "text": [
      "\n",
      "1\n",
      "2\n",
      "3\n",
      "\n",
      "The new array elements are: \n",
      "1\n",
      "2\n",
      "3\n",
      "4\n"
     ]
    }
   ],
   "source": [
    "# The following is illustrative of how arrays work in Python 3 with the array module \n",
    "import array as arr\n",
    "\n",
    "# Array\n",
    "# arrays are very similar to lists, but arrays must have the same data type\n",
    "my_arr = arr.array('i', [1, 2, 3])\n",
    "print()\n",
    "for i in my_arr:\n",
    "    print(i)\n",
    "\n",
    "# functions like append, pop, insert, and remove can be used\n",
    "my_arr.append(4)\n",
    "print('\\nThe new array elements are: ')\n",
    "for i in my_arr:\n",
    "    print(i)\n",
    "\n"
   ]
  },
  {
   "cell_type": "code",
   "execution_count": 29,
   "metadata": {},
   "outputs": [
    {
     "ename": "AttributeError",
     "evalue": "'tuple' object has no attribute 'append'",
     "output_type": "error",
     "traceback": [
      "\u001b[0;31m---------------------------------------------------------------------------\u001b[0m",
      "\u001b[0;31mAttributeError\u001b[0m                            Traceback (most recent call last)",
      "Cell \u001b[0;32mIn [29], line 5\u001b[0m\n\u001b[1;32m      1\u001b[0m \u001b[39m# The following demonstrates the workings of tuples\u001b[39;00m\n\u001b[1;32m      2\u001b[0m \u001b[39m# tuples are similar to lists in the sense they are ordered and allow duplicate values,\u001b[39;00m\n\u001b[1;32m      3\u001b[0m \u001b[39m# but tuples are immutable\u001b[39;00m\n\u001b[1;32m      4\u001b[0m my_tuple \u001b[39m=\u001b[39m (\u001b[39m\"\u001b[39m\u001b[39mMeta\u001b[39m\u001b[39m\"\u001b[39m, \u001b[39m\"\u001b[39m\u001b[39mGoogle\u001b[39m\u001b[39m\"\u001b[39m, \u001b[39m\"\u001b[39m\u001b[39mApple\u001b[39m\u001b[39m\"\u001b[39m)\n\u001b[0;32m----> 5\u001b[0m my_tuple\u001b[39m.\u001b[39;49mappend(\u001b[39m\"\u001b[39m\u001b[39mAmazon\u001b[39m\u001b[39m\"\u001b[39m)\n",
      "\u001b[0;31mAttributeError\u001b[0m: 'tuple' object has no attribute 'append'"
     ]
    }
   ],
   "source": [
    "# The following demonstrates the workings of tuples\n",
    "# tuples are similar to lists in the sense they are ordered and allow duplicate values,\n",
    "# but tuples are immutable\n",
    "my_tuple = (\"Meta\", \"Google\", \"Apple\")\n",
    "my_tuple.append(\"Amazon\")"
   ]
  },
  {
   "cell_type": "code",
   "execution_count": 35,
   "metadata": {},
   "outputs": [
    {
     "name": "stdout",
     "output_type": "stream",
     "text": [
      "\n",
      "('Meta', 'Google', 'Apple', 'Amazon')\n"
     ]
    },
    {
     "ename": "AttributeError",
     "evalue": "'tuple' object has no attribute 'append'",
     "output_type": "error",
     "traceback": [
      "\u001b[0;31m---------------------------------------------------------------------------\u001b[0m",
      "\u001b[0;31mAttributeError\u001b[0m                            Traceback (most recent call last)",
      "Cell \u001b[0;32mIn [35], line 14\u001b[0m\n\u001b[1;32m     11\u001b[0m \u001b[39mprint\u001b[39m(my_tuple)\n\u001b[1;32m     13\u001b[0m \u001b[39m# the following with give an AttributeError\u001b[39;00m\n\u001b[0;32m---> 14\u001b[0m my_tuple\u001b[39m.\u001b[39;49mappend(\u001b[39m\"\u001b[39m\u001b[39mAmazon\u001b[39m\u001b[39m\"\u001b[39m)\n",
      "\u001b[0;31mAttributeError\u001b[0m: 'tuple' object has no attribute 'append'"
     ]
    }
   ],
   "source": [
    "# The following illustrates how sets work\n",
    "# Like tuples, items within it are immutable, \n",
    "# but items can be added and removed and duplicates are simply ignored\n",
    "my_tuple = {\"Meta\", \"Google\", \"Apple\"}\n",
    "\n",
    "# items can be added with list conversion, but cannot use append on the tuple directly\n",
    "my_list = list(my_tuple)\n",
    "my_list.append(\"Amazon\")\n",
    "my_tuple = tuple(my_list)\n",
    "print()\n",
    "print(my_tuple)\n",
    "\n",
    "# the following with give an AttributeError\n",
    "my_tuple.append(\"Amazon\")"
   ]
  }
 ],
 "metadata": {
  "kernelspec": {
   "display_name": "Python 3.10.8 ('env': venv)",
   "language": "python",
   "name": "python3"
  },
  "language_info": {
   "codemirror_mode": {
    "name": "ipython",
    "version": 3
   },
   "file_extension": ".py",
   "mimetype": "text/x-python",
   "name": "python",
   "nbconvert_exporter": "python",
   "pygments_lexer": "ipython3",
   "version": "3.10.8"
  },
  "orig_nbformat": 4,
  "vscode": {
   "interpreter": {
    "hash": "fce899492f9871b3a3a1def1455d9f75e6b6a005707a29584702ac61c04d9843"
   }
  }
 },
 "nbformat": 4,
 "nbformat_minor": 2
}
